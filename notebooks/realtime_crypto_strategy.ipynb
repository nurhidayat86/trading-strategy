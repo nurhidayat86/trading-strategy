{
 "cells": [
  {
   "cell_type": "code",
   "execution_count": 1,
   "id": "93de20a2-6415-4574-b25c-e773b73b2098",
   "metadata": {},
   "outputs": [],
   "source": [
    "from alpha_vantage.cryptocurrencies import CryptoCurrencies\n",
    "import pandas_ta as ta\n",
    "import pandas as pd\n",
    "import numpy as np\n",
    "import matplotlib.pyplot as plt\n",
    "import datetime as dt\n",
    "import os\n",
    "\n",
    "pd.set_option('display.max_columns', 500)\n",
    "pd.set_option('display.max_rows', 100)\n",
    "\n",
    "key = os.environ['av_key']"
   ]
  },
  {
   "cell_type": "code",
   "execution_count": 2,
   "id": "9c34b914-b8a9-4d34-bc8b-1babd06b096a",
   "metadata": {},
   "outputs": [],
   "source": [
    "cc = CryptoCurrencies(key=key, output_format='pandas')"
   ]
  },
  {
   "cell_type": "code",
   "execution_count": 3,
   "id": "166026fd-7492-4ce0-a5be-ae15d4ebc389",
   "metadata": {},
   "outputs": [],
   "source": [
    "df, meta_data = cc.get_crypto_intraday('ETH', market='USD', interval='1min', outputsize='full')"
   ]
  },
  {
   "cell_type": "code",
   "execution_count": 4,
   "id": "672fd968-f688-4f77-adbd-09baff84f910",
   "metadata": {},
   "outputs": [],
   "source": [
    "df = df.rename(columns={\"4. close\": \"close\",\n",
    "                   \"1. open\": \"open\",\n",
    "                   \"2. high\": \"high\",\n",
    "                   \"3. low\": \"low\",\n",
    "                   \"5. volume\": \"volume\"})\n",
    "\n",
    "df = df[['open', 'high', 'low', 'close', 'volume']]"
   ]
  },
  {
   "cell_type": "code",
   "execution_count": 5,
   "id": "46044e0d-2898-4877-93d6-ffe633a9788e",
   "metadata": {},
   "outputs": [],
   "source": [
    "df = df.sort_index()\n",
    "df['idx_int'] = np.arange(0, len(df))\n",
    "df = df.reset_index()"
   ]
  },
  {
   "cell_type": "code",
   "execution_count": 6,
   "id": "663c9a4b-7501-4490-ab46-956b1eaa4f00",
   "metadata": {},
   "outputs": [
    {
     "data": {
      "text/html": [
       "<div>\n",
       "<style scoped>\n",
       "    .dataframe tbody tr th:only-of-type {\n",
       "        vertical-align: middle;\n",
       "    }\n",
       "\n",
       "    .dataframe tbody tr th {\n",
       "        vertical-align: top;\n",
       "    }\n",
       "\n",
       "    .dataframe thead th {\n",
       "        text-align: right;\n",
       "    }\n",
       "</style>\n",
       "<table border=\"1\" class=\"dataframe\">\n",
       "  <thead>\n",
       "    <tr style=\"text-align: right;\">\n",
       "      <th></th>\n",
       "      <th>date</th>\n",
       "      <th>open</th>\n",
       "      <th>high</th>\n",
       "      <th>low</th>\n",
       "      <th>close</th>\n",
       "      <th>volume</th>\n",
       "      <th>idx_int</th>\n",
       "    </tr>\n",
       "  </thead>\n",
       "  <tbody>\n",
       "    <tr>\n",
       "      <th>0</th>\n",
       "      <td>2024-11-08 11:39:00</td>\n",
       "      <td>2922.36</td>\n",
       "      <td>2923.29</td>\n",
       "      <td>2922.07</td>\n",
       "      <td>2923.07</td>\n",
       "      <td>19.0</td>\n",
       "      <td>0</td>\n",
       "    </tr>\n",
       "    <tr>\n",
       "      <th>1</th>\n",
       "      <td>2024-11-08 11:40:00</td>\n",
       "      <td>2923.04</td>\n",
       "      <td>2925.72</td>\n",
       "      <td>2922.25</td>\n",
       "      <td>2925.06</td>\n",
       "      <td>41.0</td>\n",
       "      <td>1</td>\n",
       "    </tr>\n",
       "    <tr>\n",
       "      <th>2</th>\n",
       "      <td>2024-11-08 11:41:00</td>\n",
       "      <td>2925.05</td>\n",
       "      <td>2927.09</td>\n",
       "      <td>2924.71</td>\n",
       "      <td>2927.09</td>\n",
       "      <td>20.0</td>\n",
       "      <td>2</td>\n",
       "    </tr>\n",
       "    <tr>\n",
       "      <th>3</th>\n",
       "      <td>2024-11-08 11:42:00</td>\n",
       "      <td>2926.76</td>\n",
       "      <td>2926.97</td>\n",
       "      <td>2925.40</td>\n",
       "      <td>2926.19</td>\n",
       "      <td>69.0</td>\n",
       "      <td>3</td>\n",
       "    </tr>\n",
       "    <tr>\n",
       "      <th>4</th>\n",
       "      <td>2024-11-08 11:43:00</td>\n",
       "      <td>2926.14</td>\n",
       "      <td>2926.15</td>\n",
       "      <td>2922.22</td>\n",
       "      <td>2922.44</td>\n",
       "      <td>82.0</td>\n",
       "      <td>4</td>\n",
       "    </tr>\n",
       "  </tbody>\n",
       "</table>\n",
       "</div>"
      ],
      "text/plain": [
       "                 date     open     high      low    close  volume  idx_int\n",
       "0 2024-11-08 11:39:00  2922.36  2923.29  2922.07  2923.07    19.0        0\n",
       "1 2024-11-08 11:40:00  2923.04  2925.72  2922.25  2925.06    41.0        1\n",
       "2 2024-11-08 11:41:00  2925.05  2927.09  2924.71  2927.09    20.0        2\n",
       "3 2024-11-08 11:42:00  2926.76  2926.97  2925.40  2926.19    69.0        3\n",
       "4 2024-11-08 11:43:00  2926.14  2926.15  2922.22  2922.44    82.0        4"
      ]
     },
     "execution_count": 6,
     "metadata": {},
     "output_type": "execute_result"
    }
   ],
   "source": [
    "df.head()"
   ]
  },
  {
   "cell_type": "code",
   "execution_count": 7,
   "id": "67db8da9-2e2f-4ad3-bb32-bc7ee45f9a64",
   "metadata": {},
   "outputs": [],
   "source": [
    "def compute_gradient(start_index, df, x_label, y_label, len_data):\n",
    "    # Ensure we only take data points from n to n+5\n",
    "    if start_index + len_data > len(df):\n",
    "        return None  # Return None if there are not enough points to calculate gradient\n",
    "    \n",
    "    # Extract the last 5 data points (x, y) from the DataFrame\n",
    "    data_segment = df.iloc[start_index:start_index + len_data]\n",
    "    x = data_segment[x_label]\n",
    "    y = data_segment[y_label]\n",
    "    \n",
    "    # Calculate the necessary summations for the least squares formula\n",
    "    n = len(x)\n",
    "    sum_x = x.sum()\n",
    "    sum_y = y.sum()\n",
    "    sum_x2 = (x**2).sum()\n",
    "    sum_xy = (x * y).sum()\n",
    "    \n",
    "    # Calculate the slope (gradient) using the least squares formula\n",
    "    slope = (n * sum_xy - sum_x * sum_y) / (n * sum_x2 - sum_x**2)\n",
    "    return slope"
   ]
  },
  {
   "cell_type": "code",
   "execution_count": 8,
   "id": "61d5954e-5781-4997-a01c-d4d5dc7b2e88",
   "metadata": {},
   "outputs": [
    {
     "data": {
      "text/html": [
       "<div>\n",
       "<style scoped>\n",
       "    .dataframe tbody tr th:only-of-type {\n",
       "        vertical-align: middle;\n",
       "    }\n",
       "\n",
       "    .dataframe tbody tr th {\n",
       "        vertical-align: top;\n",
       "    }\n",
       "\n",
       "    .dataframe thead th {\n",
       "        text-align: right;\n",
       "    }\n",
       "</style>\n",
       "<table border=\"1\" class=\"dataframe\">\n",
       "  <thead>\n",
       "    <tr style=\"text-align: right;\">\n",
       "      <th></th>\n",
       "      <th>PSARl_0.02_0.2</th>\n",
       "      <th>PSARs_0.02_0.2</th>\n",
       "      <th>PSARaf_0.02_0.2</th>\n",
       "      <th>PSARr_0.02_0.2</th>\n",
       "    </tr>\n",
       "  </thead>\n",
       "  <tbody>\n",
       "    <tr>\n",
       "      <th>0</th>\n",
       "      <td>NaN</td>\n",
       "      <td>NaN</td>\n",
       "      <td>0.02</td>\n",
       "      <td>0</td>\n",
       "    </tr>\n",
       "    <tr>\n",
       "      <th>1</th>\n",
       "      <td>2892.600000</td>\n",
       "      <td>NaN</td>\n",
       "      <td>0.04</td>\n",
       "      <td>0</td>\n",
       "    </tr>\n",
       "    <tr>\n",
       "      <th>2</th>\n",
       "      <td>2893.924800</td>\n",
       "      <td>NaN</td>\n",
       "      <td>0.06</td>\n",
       "      <td>0</td>\n",
       "    </tr>\n",
       "    <tr>\n",
       "      <th>3</th>\n",
       "      <td>2895.914712</td>\n",
       "      <td>NaN</td>\n",
       "      <td>0.06</td>\n",
       "      <td>0</td>\n",
       "    </tr>\n",
       "    <tr>\n",
       "      <th>4</th>\n",
       "      <td>2897.785229</td>\n",
       "      <td>NaN</td>\n",
       "      <td>0.06</td>\n",
       "      <td>0</td>\n",
       "    </tr>\n",
       "    <tr>\n",
       "      <th>...</th>\n",
       "      <td>...</td>\n",
       "      <td>...</td>\n",
       "      <td>...</td>\n",
       "      <td>...</td>\n",
       "    </tr>\n",
       "    <tr>\n",
       "      <th>345</th>\n",
       "      <td>2895.506661</td>\n",
       "      <td>NaN</td>\n",
       "      <td>0.04</td>\n",
       "      <td>0</td>\n",
       "    </tr>\n",
       "    <tr>\n",
       "      <th>346</th>\n",
       "      <td>2895.876795</td>\n",
       "      <td>NaN</td>\n",
       "      <td>0.04</td>\n",
       "      <td>0</td>\n",
       "    </tr>\n",
       "    <tr>\n",
       "      <th>347</th>\n",
       "      <td>2896.232123</td>\n",
       "      <td>NaN</td>\n",
       "      <td>0.04</td>\n",
       "      <td>0</td>\n",
       "    </tr>\n",
       "    <tr>\n",
       "      <th>348</th>\n",
       "      <td>NaN</td>\n",
       "      <td>2904.760</td>\n",
       "      <td>0.02</td>\n",
       "      <td>1</td>\n",
       "    </tr>\n",
       "    <tr>\n",
       "      <th>349</th>\n",
       "      <td>NaN</td>\n",
       "      <td>2904.533</td>\n",
       "      <td>0.04</td>\n",
       "      <td>0</td>\n",
       "    </tr>\n",
       "  </tbody>\n",
       "</table>\n",
       "<p>350 rows × 4 columns</p>\n",
       "</div>"
      ],
      "text/plain": [
       "     PSARl_0.02_0.2  PSARs_0.02_0.2  PSARaf_0.02_0.2  PSARr_0.02_0.2\n",
       "0               NaN             NaN             0.02               0\n",
       "1       2892.600000             NaN             0.04               0\n",
       "2       2893.924800             NaN             0.06               0\n",
       "3       2895.914712             NaN             0.06               0\n",
       "4       2897.785229             NaN             0.06               0\n",
       "..              ...             ...              ...             ...\n",
       "345     2895.506661             NaN             0.04               0\n",
       "346     2895.876795             NaN             0.04               0\n",
       "347     2896.232123             NaN             0.04               0\n",
       "348             NaN        2904.760             0.02               1\n",
       "349             NaN        2904.533             0.04               0\n",
       "\n",
       "[350 rows x 4 columns]"
      ]
     },
     "execution_count": 8,
     "metadata": {},
     "output_type": "execute_result"
    }
   ],
   "source": [
    "# realtime stock trading\n",
    "df.ta.ema(length=10, append=True)\n",
    "df.ta.ema(length=50, append=True)\n",
    "df.ta.rsi(length=14, append=True)\n",
    "df.ta.bbands(length=20, std=2, append=True)\n",
    "df.ta.macd(fast=12, slow=26, signal=9, append=True)\n",
    "df.ta.psar(append=True)"
   ]
  },
  {
   "cell_type": "code",
   "execution_count": 9,
   "id": "30218910-2272-4ca4-ab93-2a82017e7e8d",
   "metadata": {},
   "outputs": [],
   "source": [
    "df['psar_flip_dir'] = 0\n",
    "df.loc[(df['PSARr_0.02_0.2']==1) & (df['PSARl_0.02_0.2'].isnull()==False), 'psar_flip_dir'] = 1\n",
    "df.loc[(df['PSARr_0.02_0.2']==1) & (df['PSARs_0.02_0.2'].isnull()==False), 'psar_flip_dir'] = -1"
   ]
  },
  {
   "cell_type": "code",
   "execution_count": 10,
   "id": "d0d010f5-0068-4dfd-9a2d-c4ade552a89d",
   "metadata": {},
   "outputs": [
    {
     "data": {
      "text/html": [
       "<div>\n",
       "<style scoped>\n",
       "    .dataframe tbody tr th:only-of-type {\n",
       "        vertical-align: middle;\n",
       "    }\n",
       "\n",
       "    .dataframe tbody tr th {\n",
       "        vertical-align: top;\n",
       "    }\n",
       "\n",
       "    .dataframe thead th {\n",
       "        text-align: right;\n",
       "    }\n",
       "</style>\n",
       "<table border=\"1\" class=\"dataframe\">\n",
       "  <thead>\n",
       "    <tr style=\"text-align: right;\">\n",
       "      <th></th>\n",
       "      <th>date</th>\n",
       "      <th>open</th>\n",
       "      <th>high</th>\n",
       "      <th>low</th>\n",
       "      <th>close</th>\n",
       "      <th>volume</th>\n",
       "      <th>idx_int</th>\n",
       "      <th>EMA_10</th>\n",
       "      <th>EMA_50</th>\n",
       "      <th>RSI_14</th>\n",
       "      <th>BBL_20_2.0</th>\n",
       "      <th>BBM_20_2.0</th>\n",
       "      <th>BBU_20_2.0</th>\n",
       "      <th>BBB_20_2.0</th>\n",
       "      <th>BBP_20_2.0</th>\n",
       "      <th>MACD_12_26_9</th>\n",
       "      <th>MACDh_12_26_9</th>\n",
       "      <th>MACDs_12_26_9</th>\n",
       "      <th>PSARl_0.02_0.2</th>\n",
       "      <th>PSARs_0.02_0.2</th>\n",
       "      <th>PSARaf_0.02_0.2</th>\n",
       "      <th>PSARr_0.02_0.2</th>\n",
       "      <th>psar_flip_dir</th>\n",
       "    </tr>\n",
       "  </thead>\n",
       "  <tbody>\n",
       "    <tr>\n",
       "      <th>0</th>\n",
       "      <td>2024-11-08 11:39:00</td>\n",
       "      <td>2922.36</td>\n",
       "      <td>2923.29</td>\n",
       "      <td>2922.07</td>\n",
       "      <td>2923.07</td>\n",
       "      <td>19.0</td>\n",
       "      <td>0</td>\n",
       "      <td>NaN</td>\n",
       "      <td>NaN</td>\n",
       "      <td>NaN</td>\n",
       "      <td>NaN</td>\n",
       "      <td>NaN</td>\n",
       "      <td>NaN</td>\n",
       "      <td>NaN</td>\n",
       "      <td>NaN</td>\n",
       "      <td>NaN</td>\n",
       "      <td>NaN</td>\n",
       "      <td>NaN</td>\n",
       "      <td>NaN</td>\n",
       "      <td>NaN</td>\n",
       "      <td>0.02</td>\n",
       "      <td>0</td>\n",
       "      <td>0</td>\n",
       "    </tr>\n",
       "    <tr>\n",
       "      <th>1</th>\n",
       "      <td>2024-11-08 11:40:00</td>\n",
       "      <td>2923.04</td>\n",
       "      <td>2925.72</td>\n",
       "      <td>2922.25</td>\n",
       "      <td>2925.06</td>\n",
       "      <td>41.0</td>\n",
       "      <td>1</td>\n",
       "      <td>NaN</td>\n",
       "      <td>NaN</td>\n",
       "      <td>NaN</td>\n",
       "      <td>NaN</td>\n",
       "      <td>NaN</td>\n",
       "      <td>NaN</td>\n",
       "      <td>NaN</td>\n",
       "      <td>NaN</td>\n",
       "      <td>NaN</td>\n",
       "      <td>NaN</td>\n",
       "      <td>NaN</td>\n",
       "      <td>2892.600000</td>\n",
       "      <td>NaN</td>\n",
       "      <td>0.04</td>\n",
       "      <td>0</td>\n",
       "      <td>0</td>\n",
       "    </tr>\n",
       "    <tr>\n",
       "      <th>2</th>\n",
       "      <td>2024-11-08 11:41:00</td>\n",
       "      <td>2925.05</td>\n",
       "      <td>2927.09</td>\n",
       "      <td>2924.71</td>\n",
       "      <td>2927.09</td>\n",
       "      <td>20.0</td>\n",
       "      <td>2</td>\n",
       "      <td>NaN</td>\n",
       "      <td>NaN</td>\n",
       "      <td>NaN</td>\n",
       "      <td>NaN</td>\n",
       "      <td>NaN</td>\n",
       "      <td>NaN</td>\n",
       "      <td>NaN</td>\n",
       "      <td>NaN</td>\n",
       "      <td>NaN</td>\n",
       "      <td>NaN</td>\n",
       "      <td>NaN</td>\n",
       "      <td>2893.924800</td>\n",
       "      <td>NaN</td>\n",
       "      <td>0.06</td>\n",
       "      <td>0</td>\n",
       "      <td>0</td>\n",
       "    </tr>\n",
       "    <tr>\n",
       "      <th>3</th>\n",
       "      <td>2024-11-08 11:42:00</td>\n",
       "      <td>2926.76</td>\n",
       "      <td>2926.97</td>\n",
       "      <td>2925.40</td>\n",
       "      <td>2926.19</td>\n",
       "      <td>69.0</td>\n",
       "      <td>3</td>\n",
       "      <td>NaN</td>\n",
       "      <td>NaN</td>\n",
       "      <td>NaN</td>\n",
       "      <td>NaN</td>\n",
       "      <td>NaN</td>\n",
       "      <td>NaN</td>\n",
       "      <td>NaN</td>\n",
       "      <td>NaN</td>\n",
       "      <td>NaN</td>\n",
       "      <td>NaN</td>\n",
       "      <td>NaN</td>\n",
       "      <td>2895.914712</td>\n",
       "      <td>NaN</td>\n",
       "      <td>0.06</td>\n",
       "      <td>0</td>\n",
       "      <td>0</td>\n",
       "    </tr>\n",
       "    <tr>\n",
       "      <th>4</th>\n",
       "      <td>2024-11-08 11:43:00</td>\n",
       "      <td>2926.14</td>\n",
       "      <td>2926.15</td>\n",
       "      <td>2922.22</td>\n",
       "      <td>2922.44</td>\n",
       "      <td>82.0</td>\n",
       "      <td>4</td>\n",
       "      <td>NaN</td>\n",
       "      <td>NaN</td>\n",
       "      <td>NaN</td>\n",
       "      <td>NaN</td>\n",
       "      <td>NaN</td>\n",
       "      <td>NaN</td>\n",
       "      <td>NaN</td>\n",
       "      <td>NaN</td>\n",
       "      <td>NaN</td>\n",
       "      <td>NaN</td>\n",
       "      <td>NaN</td>\n",
       "      <td>2897.785229</td>\n",
       "      <td>NaN</td>\n",
       "      <td>0.06</td>\n",
       "      <td>0</td>\n",
       "      <td>0</td>\n",
       "    </tr>\n",
       "  </tbody>\n",
       "</table>\n",
       "</div>"
      ],
      "text/plain": [
       "                 date     open     high      low    close  volume  idx_int  \\\n",
       "0 2024-11-08 11:39:00  2922.36  2923.29  2922.07  2923.07    19.0        0   \n",
       "1 2024-11-08 11:40:00  2923.04  2925.72  2922.25  2925.06    41.0        1   \n",
       "2 2024-11-08 11:41:00  2925.05  2927.09  2924.71  2927.09    20.0        2   \n",
       "3 2024-11-08 11:42:00  2926.76  2926.97  2925.40  2926.19    69.0        3   \n",
       "4 2024-11-08 11:43:00  2926.14  2926.15  2922.22  2922.44    82.0        4   \n",
       "\n",
       "   EMA_10  EMA_50  RSI_14  BBL_20_2.0  BBM_20_2.0  BBU_20_2.0  BBB_20_2.0  \\\n",
       "0     NaN     NaN     NaN         NaN         NaN         NaN         NaN   \n",
       "1     NaN     NaN     NaN         NaN         NaN         NaN         NaN   \n",
       "2     NaN     NaN     NaN         NaN         NaN         NaN         NaN   \n",
       "3     NaN     NaN     NaN         NaN         NaN         NaN         NaN   \n",
       "4     NaN     NaN     NaN         NaN         NaN         NaN         NaN   \n",
       "\n",
       "   BBP_20_2.0  MACD_12_26_9  MACDh_12_26_9  MACDs_12_26_9  PSARl_0.02_0.2  \\\n",
       "0         NaN           NaN            NaN            NaN             NaN   \n",
       "1         NaN           NaN            NaN            NaN     2892.600000   \n",
       "2         NaN           NaN            NaN            NaN     2893.924800   \n",
       "3         NaN           NaN            NaN            NaN     2895.914712   \n",
       "4         NaN           NaN            NaN            NaN     2897.785229   \n",
       "\n",
       "   PSARs_0.02_0.2  PSARaf_0.02_0.2  PSARr_0.02_0.2  psar_flip_dir  \n",
       "0             NaN             0.02               0              0  \n",
       "1             NaN             0.04               0              0  \n",
       "2             NaN             0.06               0              0  \n",
       "3             NaN             0.06               0              0  \n",
       "4             NaN             0.06               0              0  "
      ]
     },
     "execution_count": 10,
     "metadata": {},
     "output_type": "execute_result"
    }
   ],
   "source": [
    "df.head()"
   ]
  },
  {
   "cell_type": "code",
   "execution_count": 11,
   "id": "4b58421a-3581-4b2d-beea-5d54a2dfb0ac",
   "metadata": {},
   "outputs": [],
   "source": [
    "df['r_ema_s_m'] = df['EMA_10'] / df['EMA_50']"
   ]
  },
  {
   "cell_type": "code",
   "execution_count": 13,
   "id": "abd8ad8e-e485-4cfb-b9f7-f2d566c6d4c5",
   "metadata": {},
   "outputs": [],
   "source": [
    "len_data = 5\n",
    "\n",
    "# Loop through the DataFrame, compute gradient for each row (starting point)\n",
    "for i in range(len(df) - len_data):  # Make sure we have at least 5 points for each calculation\n",
    "    gradient = compute_gradient(i, df, 'idx_int', 'EMA_10', len_data)\n",
    "    df.at[i + len_data-1, 'gradient_ema_10'] = gradient  # Store the gradient in the row corresponding to n+4\n",
    "    gradient = compute_gradient(i, df, 'idx_int', 'RSI_14', len_data)\n",
    "    df.at[i + len_data-1, 'gradient_rsi_14'] = gradient  # Store the gradient in the row corresponding to n+4\n",
    "    gradient = compute_gradient(i, df, 'idx_int', 'close', len_data)\n",
    "    df.at[i + len_data-1, 'gradient_ls'] = gradient"
   ]
  },
  {
   "cell_type": "code",
   "execution_count": 14,
   "id": "0a6d7f89-1298-4b78-969d-233412bc629a",
   "metadata": {},
   "outputs": [],
   "source": [
    "mask_crossing = (df['r_ema_s_m']<1.0005)&(df['r_ema_s_m']>0.9995)\n",
    "df['flag_ema_crossing'] = 0\n",
    "df.loc[mask_crossing, 'flag_ema_crossing'] = 1"
   ]
  },
  {
   "cell_type": "code",
   "execution_count": 15,
   "id": "f1bf48bf-7e9f-45f0-9653-3dcd70adb8d1",
   "metadata": {},
   "outputs": [],
   "source": [
    "mask_ema_grad_pos = (df['gradient_ema_10']>0.05)\n",
    "mask_ema_grad_neg = (df['gradient_ema_10']<-0.05)\n",
    "df['flag_grad_ema'] = 0\n",
    "df.loc[mask_ema_grad_pos, 'flag_grad_ema'] = 1\n",
    "df.loc[mask_ema_grad_neg, 'flag_grad_ema'] = -1\n",
    "\n",
    "mask_rsi_grad_pos = (df['gradient_rsi_14']>=1)\n",
    "mask_rsi_grad_neg = (df['gradient_rsi_14']<=1)\n",
    "df['flag_grad_rsi'] = 0\n",
    "df.loc[mask_rsi_grad_pos, 'flag_grad_rsi'] = 1\n",
    "df.loc[mask_rsi_grad_neg, 'flag_grad_rsi'] = -1\n",
    "\n",
    "df['flag_grad_ls'] = 0\n",
    "df.loc[df['gradient_ls'] >= 0.05, 'flag_grad_ls'] = 1\n",
    "df.loc[df['gradient_ls'] <= -0.05, 'flag_grad_ls'] = -1"
   ]
  },
  {
   "cell_type": "code",
   "execution_count": 17,
   "id": "7d9bd626-48c2-4564-8ef7-e4d58b1fb831",
   "metadata": {},
   "outputs": [],
   "source": [
    "df['ema_short_above_or_below'] = 0\n",
    "df.loc[(df['EMA_10']>df['EMA_50']), 'ema_short_above_or_below'] = 1\n",
    "df.loc[(df['EMA_10']<df['EMA_50']), 'ema_short_above_or_below'] = -1"
   ]
  },
  {
   "cell_type": "code",
   "execution_count": 20,
   "id": "f5207ce0-65bf-4490-8f4a-9bf8d38f4d0a",
   "metadata": {},
   "outputs": [],
   "source": [
    "df['r_close_bbu'] = df['close'] / df['BBU_20_2.0']\n",
    "df['r_close_bbl'] = df['close'] / df['BBL_20_2.0']\n",
    "df['r_ema_bbu'] = df['EMA_10'] / df['BBU_20_2.0']\n",
    "df['r_ema_bbl'] = df['EMA_10'] / df['BBL_20_2.0']"
   ]
  },
  {
   "cell_type": "code",
   "execution_count": 21,
   "id": "61cd8d4c-a358-4064-a52b-11a47c68520b",
   "metadata": {},
   "outputs": [],
   "source": [
    "df['long_entry'] = np.nan\n",
    "df['short_entry'] = np.nan\n",
    "df['long_exit'] = np.nan\n",
    "df['short_exit'] = np.nan"
   ]
  },
  {
   "cell_type": "code",
   "execution_count": 67,
   "id": "be881db3-eef6-4315-b148-57d7da9f6a7d",
   "metadata": {
    "scrolled": true
   },
   "outputs": [],
   "source": [
    "# display(df.iloc[100:120])"
   ]
  },
  {
   "cell_type": "markdown",
   "id": "690caa48-bf09-4d84-884e-99ceb21dce2f",
   "metadata": {},
   "source": [
    "# Strategy"
   ]
  },
  {
   "cell_type": "markdown",
   "id": "1f156916-7262-4c90-9b20-d6c3a25a8de4",
   "metadata": {},
   "source": [
    "To create a real-time trading strategy with specific technical indicator settings and strategies for entering and exiting trades, let's break down the components clearly:\n",
    "\n",
    "### 1. **Technical Indicators**\n",
    "Here's how we can set up the specific technical indicators:\n",
    "\n",
    "#### Moving Averages\n",
    "- **Short-Term Moving Average (MA)**: Use a 10-period MA. This is effective for spotting short-term trends and suitable for minute-by-minute trading data.\n",
    "- **Long-Term Moving Average**: Use a 50-period MA to confirm the overall trend direction. This helps filter out the noise and provides a clearer direction.\n",
    "\n",
    "#### Relative Strength Index (RSI)\n",
    "- **Length**: A 14-period RSI is standard and works well in a variety of market conditions.\n",
    "- **Overbought Threshold**: Set at 70 to indicate potential selling points.\n",
    "- **Oversold Threshold**: Set at 30 to indicate potential buying points.\n",
    "\n",
    "#### MACD (Moving Average Convergence Divergence)\n",
    "- **Fast Line**: 12-period Exponential Moving Average (EMA)\n",
    "- **Slow Line**: 26-period EMA\n",
    "- **Signal Line**: 9-period EMA of the MACD line itself\n",
    "\n",
    "### 2. **Entry and Exit Points**\n",
    "- **Go Long (Buy)**: \n",
    "  - **Entry Point**: When the 10-period MA crosses above the 50-period MA and the RSI is below 70 but above 30, indicating neither overbought nor oversold conditions. Additionally, the MACD line should cross above the signal line.\n",
    "  - **Exit Point (Take Profit)**: Consider exiting when the 10-period MA crosses back below the 50-period MA, or RSI approaches 70, indicating a potential overbought condition.\n",
    "  \n",
    "- **Go Short (Sell)**: \n",
    "  - **Entry Point**: When the 10-period MA crosses below the 50-period MA and the RSI is above 30 but below 70, indicating normal conditions. Also, the MACD line should cross below the signal line.\n",
    "  - **Exit Point (Take Profit)**: Consider exiting when the 10-period MA crosses back above the 50-period MA, or RSI approaches 30, indicating a potential oversold condition.\n",
    "\n",
    "### 3. **Stop Loss Criteria**\n",
    "- **For Long Positions**: Place a stop loss below the most recent significant low or a fixed percentage, such as 2-3% below the entry price, depending on your risk tolerance.\n",
    "- **For Short Positions**: Place a stop loss above the most recent significant high or a fixed percentage, such as 2-3% above the entry price.\n",
    "\n",
    "### 4. **Risk Management**\n",
    "- Consider the amount of capital at risk per trade, commonly 1-2% of your total trading capital to manage risk effectively.\n",
    "- Use trailing stops to lock in profits as the market moves in your favor.\n",
    "\n",
    "### 5. **Automation and Monitoring**\n",
    "- Automate the strategy using a trading bot if possible, especially to handle the high-frequency nature of minute-by-minute trading.\n",
    "- Regularly monitor performance and adjust parameters as necessary based on market conditions and strategy performance.\n",
    "\n",
    "This setup gives you a robust framework for trading on a minute-by-minute basis, leveraging these technical indicators to make informed trading decisions. Adjust these settings based on backtesting results and your specific risk tolerance."
   ]
  },
  {
   "cell_type": "markdown",
   "id": "68b24490-7750-4468-969e-6a70c8346fd9",
   "metadata": {},
   "source": [
    "# Long Entry"
   ]
  },
  {
   "cell_type": "code",
   "execution_count": 25,
   "id": "c7d23f23-f02b-4fea-bd66-16db8a21f7a0",
   "metadata": {},
   "outputs": [],
   "source": [
    "mask_le1 = (df['ema_short_above_or_below']==1)&(df['flag_ema_crossing']==1)\n",
    "mask_le2 = (df['MACDh_12_26_9']>0)\n",
    "mask_le3 = (df['r_close_bbl']<=1.0005)\n",
    "mask_le4 = (df['RSI_14']<70)&(df['RSI_14']>30)\n",
    "mask_le5 = (df['PSARl_0.02_0.2'] < df['close'])"
   ]
  },
  {
   "cell_type": "code",
   "execution_count": 26,
   "id": "8b279b46-7ff3-4f5e-aff0-9acedac6cb64",
   "metadata": {},
   "outputs": [],
   "source": [
    "df['ema_crossing_pos'] = 0\n",
    "df.loc[mask_le1, 'ema_crossing_pos'] = 1\n",
    "df['macd_pos'] = 0\n",
    "df.loc[mask_le2, 'macd_pos'] = 1\n",
    "df['close_to_bbl'] = 0\n",
    "df.loc[mask_le3, 'close_to_bbl'] = 1\n",
    "df['rsi_30_to_70'] = 0\n",
    "df.loc[mask_le4, 'rsi_30_to_70'] = 1\n",
    "df['PSAR_bellow_close'] = 0\n",
    "df.loc[mask_le5, 'PSAR_bellow_close'] = 1"
   ]
  },
  {
   "cell_type": "code",
   "execution_count": 27,
   "id": "56c0c99d-074f-452e-bfb2-52df483a6010",
   "metadata": {},
   "outputs": [],
   "source": [
    "# df['long_entry'] = df[['ema_crossing_pos', 'macd_pos', 'close_to_bbl', 'rsi_30_to_50', 'PSAR_bellow_close']].sum(axis=1)"
   ]
  },
  {
   "cell_type": "code",
   "execution_count": 28,
   "id": "a283c854-e4e9-4922-9add-2fd7c9c86371",
   "metadata": {},
   "outputs": [],
   "source": [
    "df['long_entry'] = df[['ema_crossing_pos', 'macd_pos', 'rsi_30_to_70', 'PSAR_bellow_close']].sum(axis=1)"
   ]
  },
  {
   "cell_type": "code",
   "execution_count": 45,
   "id": "36f8fc2d-1df8-4ae6-8f65-259e1d439b7f",
   "metadata": {},
   "outputs": [
    {
     "data": {
      "text/plain": [
       "(7, 48)"
      ]
     },
     "execution_count": 45,
     "metadata": {},
     "output_type": "execute_result"
    }
   ],
   "source": [
    "df.loc[df['long_entry'] == 4].shape"
   ]
  },
  {
   "cell_type": "markdown",
   "id": "8a8e2e6c-ccc8-4b82-b1ba-7bb164a566a4",
   "metadata": {},
   "source": [
    "# Short Entry"
   ]
  },
  {
   "cell_type": "code",
   "execution_count": 54,
   "id": "d3df7d8f-4d68-48f6-81cc-60d59d9c64ab",
   "metadata": {},
   "outputs": [],
   "source": [
    "mask_se1 = (df['ema_short_above_or_below']==-1)&(df['flag_ema_crossing']==1)\n",
    "mask_se2 = (df['MACDh_12_26_9']<0)\n",
    "mask_se3 = (df['r_close_bbu']>=0.9995)\n",
    "mask_se4 = (df['RSI_14']>30)&(df['RSI_14']<70)\n",
    "mask_se5 = (df['PSARs_0.02_0.2'] > df['close'])"
   ]
  },
  {
   "cell_type": "code",
   "execution_count": 55,
   "id": "40bc8b44-c95e-4e99-ad15-1b9a9ba242a4",
   "metadata": {},
   "outputs": [],
   "source": [
    "df['ema_crossing_neg'] = 0\n",
    "df.loc[mask_se1, 'ema_crossing_neg'] = 1\n",
    "df['macd_neg'] = 0\n",
    "df.loc[mask_se2, 'macd_neg'] = 1\n",
    "df['close_to_bbu'] = 0\n",
    "df.loc[mask_se3, 'close_to_bbu'] = 1\n",
    "df['rsi_30_to_70'] = 0\n",
    "df.loc[mask_se4, 'rsi_30_to_70'] = 1\n",
    "df['PSAR_above_close'] = 0\n",
    "df.loc[mask_se5, 'PSAR_above_close'] = 1"
   ]
  },
  {
   "cell_type": "code",
   "execution_count": 56,
   "id": "e5de74a8-6d61-422d-8219-c8d2a8f5b07e",
   "metadata": {},
   "outputs": [],
   "source": [
    "# df['short_entry'] = df[['ema_crossing_neg', 'macd_neg', 'close_to_bbu', 'rsi_50_to_70', 'PSAR_above_close']].sum(axis=1)"
   ]
  },
  {
   "cell_type": "code",
   "execution_count": 58,
   "id": "89bd758f-9401-4c1e-9fcc-7c99c3949e70",
   "metadata": {},
   "outputs": [],
   "source": [
    "df['short_entry'] = df[['ema_crossing_neg', 'macd_neg', 'rsi_30_to_70', 'PSAR_above_close']].sum(axis=1)"
   ]
  },
  {
   "cell_type": "code",
   "execution_count": 60,
   "id": "03c392cf-2e2b-4d1c-9a15-0fe0aaa28414",
   "metadata": {},
   "outputs": [
    {
     "data": {
      "text/plain": [
       "(22, 51)"
      ]
     },
     "execution_count": 60,
     "metadata": {},
     "output_type": "execute_result"
    }
   ],
   "source": [
    "df.loc[df['short_entry']==4].shape"
   ]
  },
  {
   "cell_type": "markdown",
   "id": "1a76c7b1-a044-4740-97c6-8d559735bcd2",
   "metadata": {},
   "source": [
    "# Long Exit"
   ]
  },
  {
   "cell_type": "code",
   "execution_count": 32,
   "id": "d0cc0f78-cae6-480f-bcf5-3fa860aebc75",
   "metadata": {},
   "outputs": [],
   "source": [
    "mask_lex1 = (df['ema_short_above_or_below']==-1)&(df['flag_ema_crossing']==1)\n",
    "mask_lex2 = (df['RSI_14']>=70)\n",
    "mask_lex3 = (df['psar_flip_dir'] == -1)"
   ]
  },
  {
   "cell_type": "code",
   "execution_count": 33,
   "id": "31b52bf5-3153-4bc4-b7ae-538d01b3e025",
   "metadata": {},
   "outputs": [],
   "source": [
    "df['ema_crossing_neg'] = 0\n",
    "df.loc[mask_lex1, 'ema_crossing_neg'] = 1\n",
    "df['rsi_above_70'] = 0\n",
    "df.loc[mask_lex2, 'rsi_above_70'] = 1\n",
    "df['psar_flip_neg'] = 0\n",
    "df.loc[mask_lex3, 'psar_flip_neg'] = 1"
   ]
  },
  {
   "cell_type": "code",
   "execution_count": 49,
   "id": "fc7c09bc-e190-45e1-9d19-f16220c9241a",
   "metadata": {},
   "outputs": [],
   "source": [
    "df['long_exit'] = df[['ema_crossing_neg', 'rsi_above_70']].sum(axis=1)"
   ]
  },
  {
   "cell_type": "code",
   "execution_count": 73,
   "id": "70735d05-f4a9-44ff-ac14-dc5c20f3dcd6",
   "metadata": {},
   "outputs": [
    {
     "data": {
      "text/plain": [
       "(0, 57)"
      ]
     },
     "execution_count": 73,
     "metadata": {},
     "output_type": "execute_result"
    }
   ],
   "source": [
    "df.loc[df['long_exit'] == 2].shape"
   ]
  },
  {
   "cell_type": "markdown",
   "id": "781ba387-6ed8-4345-be1d-026fa1d24c8e",
   "metadata": {},
   "source": [
    "# Short Exit"
   ]
  },
  {
   "cell_type": "code",
   "execution_count": 63,
   "id": "b2924141-eab9-4823-898f-b18cd9ded938",
   "metadata": {},
   "outputs": [],
   "source": [
    "mask_sex1 = (df['ema_short_above_or_below']==1)&(df['flag_ema_crossing']==1)\n",
    "mask_sex2 = (df['RSI_14']<=30)\n",
    "mask_sex3 = (df['psar_flip_dir'] == 1)"
   ]
  },
  {
   "cell_type": "code",
   "execution_count": 64,
   "id": "f79e832f-0c7d-4a1a-ae18-95eeeb4584ec",
   "metadata": {},
   "outputs": [],
   "source": [
    "df['ema_crossing_pos'] = 0\n",
    "df.loc[mask_sex1, 'ema_crossing_pos'] = 1\n",
    "df['rsi_bellow_30'] = 0\n",
    "df.loc[mask_sex2, 'rsi_bellow_30'] = 1\n",
    "df['psar_flip_pos'] = 0\n",
    "df.loc[mask_sex3, 'psar_flip_pos'] = 1"
   ]
  },
  {
   "cell_type": "code",
   "execution_count": 65,
   "id": "b91910f1-b282-4002-9457-23c242d2545a",
   "metadata": {},
   "outputs": [],
   "source": [
    "df['short_exit'] = df[['ema_crossing_pos', 'rsi_bellow_30']].sum(axis=1)"
   ]
  },
  {
   "cell_type": "code",
   "execution_count": 66,
   "id": "ad784bad-6a1b-4595-a325-3400181b8945",
   "metadata": {},
   "outputs": [
    {
     "data": {
      "text/plain": [
       "(33, 54)"
      ]
     },
     "execution_count": 66,
     "metadata": {},
     "output_type": "execute_result"
    }
   ],
   "source": [
    "df.loc[df['short_exit'] == 1].shape"
   ]
  },
  {
   "cell_type": "markdown",
   "id": "77742794-3e46-453e-84c8-1968670df742",
   "metadata": {},
   "source": [
    "# Bullish / bearish confirmation"
   ]
  },
  {
   "cell_type": "code",
   "execution_count": 70,
   "id": "85a70e55-5a94-4417-85ea-389d84e03eeb",
   "metadata": {},
   "outputs": [],
   "source": [
    "df['gradient_ema_pos'] = 0\n",
    "df.loc[df['flag_grad_ema']==1, 'gradient_ema_pos'] = 1\n",
    "df['gradient_ema_neg'] = 0\n",
    "df.loc[df['flag_grad_ema']==-1, 'gradient_ema_neg'] = 1"
   ]
  },
  {
   "cell_type": "code",
   "execution_count": 71,
   "id": "96fafbd0-b128-4feb-b7a0-fc9e7873aa46",
   "metadata": {},
   "outputs": [],
   "source": [
    "df['bullish_confirm'] = df[['ema_crossing_pos', 'macd_pos', 'gradient_ema_pos']].sum(axis=1)\n",
    "df['bearish_confirm'] = df[['ema_crossing_neg', 'macd_neg', 'gradient_ema_neg']].sum(axis=1)"
   ]
  },
  {
   "cell_type": "markdown",
   "id": "12aa6dda-6a5f-49e0-b85c-f9b939463ae8",
   "metadata": {},
   "source": [
    "# Oversold Marker"
   ]
  },
  {
   "cell_type": "code",
   "execution_count": 74,
   "id": "b2c71f63-e5aa-4ea2-84af-1d2014e5eaa0",
   "metadata": {},
   "outputs": [],
   "source": [
    "mask_os1 = (df['RSI_14']<=30)&((df['flag_grad_ls']==1)|(df['flag_grad_ema']==1))\n",
    "mask_os2 = (df['r_close_bbl']<=1.0005)&((df['flag_grad_ls']==1)|(df['flag_grad_ema']==1))"
   ]
  },
  {
   "cell_type": "code",
   "execution_count": 75,
   "id": "aec1bdbb-699c-4ac3-bc2c-28aa69a106ba",
   "metadata": {},
   "outputs": [],
   "source": [
    "df['rsi_bellow_30'] = 0\n",
    "df.loc[mask_os1, 'rsi_bellow_30'] = 1\n",
    "df['close_to_bbl'] = 0\n",
    "df.loc[mask_os2, 'close_to_bbl'] = 1"
   ]
  },
  {
   "cell_type": "code",
   "execution_count": 76,
   "id": "960ffdb5-85ed-4b50-92ea-4cbfcbec957d",
   "metadata": {},
   "outputs": [],
   "source": [
    "df['oversold_confirm'] = df[['rsi_bellow_30', 'close_to_bbl']].sum(axis=1)"
   ]
  },
  {
   "cell_type": "markdown",
   "id": "d97a3136-be6a-43ca-9926-dd25300295cd",
   "metadata": {},
   "source": [
    "# Overbought Marker"
   ]
  },
  {
   "cell_type": "code",
   "execution_count": 78,
   "id": "2b4329c9-0df1-4f7c-b73b-af8633f0253c",
   "metadata": {},
   "outputs": [],
   "source": [
    "mask_ob1 = (df['RSI_14']>=70)&((df['flag_grad_ls']==-1)|(df['flag_grad_ema']==-1))\n",
    "mask_ob2 = (df['r_close_bbu']>=0.9995)&((df['flag_grad_ls']==-1)|(df['flag_grad_ema']==-1))"
   ]
  },
  {
   "cell_type": "code",
   "execution_count": 79,
   "id": "8cea3ed3-7398-4140-ba6e-fc5a27d4f41b",
   "metadata": {},
   "outputs": [],
   "source": [
    "df['rsi_above_70'] = 0\n",
    "df.loc[mask_ob1, 'rsi_above_70'] = 1\n",
    "df['close_to_bbu'] = 0\n",
    "df.loc[mask_ob2, 'close_to_bbu'] = 1"
   ]
  },
  {
   "cell_type": "code",
   "execution_count": 80,
   "id": "032b709d-153a-468d-b6ea-b299976e7abd",
   "metadata": {},
   "outputs": [],
   "source": [
    "df['overbought_confirm'] = df[['rsi_above_70', 'close_to_bbu']].sum(axis=1)"
   ]
  },
  {
   "cell_type": "code",
   "execution_count": 81,
   "id": "74475e0e-86fb-495b-bc1e-1493605c89c7",
   "metadata": {},
   "outputs": [],
   "source": [
    "df.to_clipboard()"
   ]
  }
 ],
 "metadata": {
  "kernelspec": {
   "display_name": "Python [conda env:trading-strategy]",
   "language": "python",
   "name": "conda-env-trading-strategy-py"
  },
  "language_info": {
   "codemirror_mode": {
    "name": "ipython",
    "version": 3
   },
   "file_extension": ".py",
   "mimetype": "text/x-python",
   "name": "python",
   "nbconvert_exporter": "python",
   "pygments_lexer": "ipython3",
   "version": "3.11.10"
  }
 },
 "nbformat": 4,
 "nbformat_minor": 5
}
