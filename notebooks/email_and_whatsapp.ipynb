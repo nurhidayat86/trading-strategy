{
 "cells": [
  {
   "cell_type": "code",
   "execution_count": 3,
   "id": "5ba59b4b-8b83-4a07-8f49-8630686e470e",
   "metadata": {},
   "outputs": [
    {
     "name": "stdout",
     "output_type": "stream",
     "text": [
      "Successfully Sent!\n"
     ]
    }
   ],
   "source": [
    "# importing the module\n",
    "import pywhatkit\n",
    "\n",
    "phone_number = '+xxxxxxxx'\n",
    "# using Exception Handling to avoid \n",
    "# unprecedented errors\n",
    "try:\n",
    "   \n",
    "  # sending message to receiver\n",
    "  # using pywhatkit\n",
    "  pywhatkit.sendwhatmsg_instantly(phone_number, \n",
    "                        \"Hello from Arif3\",\n",
    "                        wait_time= 15,\n",
    "                        tab_close= True,\n",
    "                        close_time= 3)\n",
    "  print(\"Successfully Sent!\")\n",
    " \n",
    "except:\n",
    "   \n",
    "  # handling exception \n",
    "  # and printing error message\n",
    "  print(\"An Unexpected Error!\")"
   ]
  },
  {
   "cell_type": "code",
   "execution_count": 7,
   "id": "c1b98b50-9cc6-4cc1-8c7e-e06da71eed58",
   "metadata": {},
   "outputs": [
    {
     "name": "stderr",
     "output_type": "stream",
     "text": [
      "ERROR: Could not find a version that satisfies the requirement smtplib (from versions: none)\n",
      "ERROR: No matching distribution found for smtplib\n"
     ]
    }
   ],
   "source": [
    "!pip install smtplib"
   ]
  },
  {
   "cell_type": "code",
   "execution_count": 9,
   "id": "af570c4b-e59a-41c2-bf70-e068590d0332",
   "metadata": {},
   "outputs": [
    {
     "name": "stdout",
     "output_type": "stream",
     "text": [
      "Email sent successfully!\n"
     ]
    }
   ],
   "source": [
    "import os\n",
    "import smtplib\n",
    "from email.mime.multipart import MIMEMultipart\n",
    "from email.mime.text import MIMEText\n",
    "\n",
    "# Use environment variables for sensitive information\n",
    "sender_email = 'nurhidayat86@gmail.com'\n",
    "password = os.environ['gmail_app_key']\n",
    "receiver_email = \"nurhidayat86@yahoo.com\"\n",
    "subject = \"Test Email\"\n",
    "body = \"Hello, this is a test email sent from Python!\"\n",
    "\n",
    "# Create the message\n",
    "message = MIMEMultipart()\n",
    "message['From'] = sender_email\n",
    "message['To'] = receiver_email\n",
    "message['Subject'] = subject\n",
    "message.attach(MIMEText(body, 'plain'))\n",
    "\n",
    "# Send email via Gmail SMTP server\n",
    "with smtplib.SMTP_SSL('smtp.gmail.com', 465) as server:\n",
    "    server.login(sender_email, password)\n",
    "    server.sendmail(sender_email, receiver_email, message.as_string())\n",
    "\n",
    "print(\"Email sent successfully!\")\n"
   ]
  },
  {
   "cell_type": "code",
   "execution_count": null,
   "id": "a49eeb5b-6d8a-44fc-b029-f4ccf28661a4",
   "metadata": {},
   "outputs": [],
   "source": []
  }
 ],
 "metadata": {
  "kernelspec": {
   "display_name": "Python [conda env:trading-strategy]",
   "language": "python",
   "name": "conda-env-trading-strategy-py"
  },
  "language_info": {
   "codemirror_mode": {
    "name": "ipython",
    "version": 3
   },
   "file_extension": ".py",
   "mimetype": "text/x-python",
   "name": "python",
   "nbconvert_exporter": "python",
   "pygments_lexer": "ipython3",
   "version": "3.11.10"
  }
 },
 "nbformat": 4,
 "nbformat_minor": 5
}
