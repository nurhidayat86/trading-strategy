{
 "cells": [
  {
   "cell_type": "code",
   "execution_count": 1,
   "id": "0a9919f3-0e03-43e9-8361-13bb88a702b9",
   "metadata": {},
   "outputs": [],
   "source": [
    "import os\n",
    "import pandas as pd\n",
    "\n",
    "api_key = os.environ['av_key']"
   ]
  },
  {
   "cell_type": "code",
   "execution_count": 3,
   "id": "c7f7a3d0-f433-4e78-9167-2eb49cc76eb6",
   "metadata": {},
   "outputs": [],
   "source": [
    "df = pd.read_csv(\"datas//news_sentiment_target.csv\")"
   ]
  },
  {
   "cell_type": "code",
   "execution_count": 4,
   "id": "37c9cdc3-e566-40c0-a4b4-819099ccc2d1",
   "metadata": {},
   "outputs": [
    {
     "data": {
      "text/plain": [
       "Index(['Unnamed: 0', 'date_published', 'title', 'time_published', 'authors',\n",
       "       'summary', 'source', 'ticker', 'label_close2max', 'label_close3max',\n",
       "       'label_close2min', 'label_close3min', 'label_close2mean',\n",
       "       'label_close3mean', 'inc_close2mean_perc5', 'inc_close2mean_perc10',\n",
       "       'inc_close2mean_perc3', 'inc_close2max_perc5', 'inc_close2max_perc10',\n",
       "       'inc_close2max_perc3', 'inc_close3mean_perc5', 'inc_close3mean_perc10',\n",
       "       'inc_close3mean_perc3', 'inc_close3max_perc5', 'inc_close3max_perc10',\n",
       "       'inc_close3max_perc3', 'dec_close2mean_perc5', 'dec_close2mean_perc10',\n",
       "       'dec_close2mean_perc3', 'dec_close2min_perc5', 'dec_close2min_perc10',\n",
       "       'dec_close2min_perc3', 'dec_close3mean_perc5', 'dec_close3mean_perc10',\n",
       "       'dec_close3mean_perc3', 'dec_close3min_perc5', 'dec_close3min_perc10',\n",
       "       'dec_close3min_perc3', 'summary_length', 'title_length'],\n",
       "      dtype='object')"
      ]
     },
     "execution_count": 4,
     "metadata": {},
     "output_type": "execute_result"
    }
   ],
   "source": [
    "df.columns"
   ]
  },
  {
   "cell_type": "code",
   "execution_count": 5,
   "id": "afd426e3-f361-452f-b20f-bb54c100664f",
   "metadata": {},
   "outputs": [
    {
     "data": {
      "text/plain": [
       "0          BEIJING, Aug. 01, 2024 ( GLOBE NEWSWIRE ) -- A...\n",
       "1          Research analysts at StockNews.com began cover...\n",
       "2          StockNews.com assumed coverage on shares of AT...\n",
       "3          Equities research analysts at StockNews.com be...\n",
       "4          Research analysts at StockNews.com initiated c...\n",
       "                                 ...                        \n",
       "1116673    Chart: US Housing Market Affordability Has Plu...\n",
       "1116674    'I am asset rich, but my income will not be as...\n",
       "1116675    Bezos Buys Neighbor's House in Florida's 'Bill...\n",
       "1116676    Housing Market: This Chart Shows How Rent Pric...\n",
       "1116677    Apartment Bidding Wars: Inside My Expensive Fi...\n",
       "Name: summary, Length: 1116678, dtype: object"
      ]
     },
     "execution_count": 5,
     "metadata": {},
     "output_type": "execute_result"
    }
   ],
   "source": [
    "df[\"summary\"]"
   ]
  },
  {
   "cell_type": "markdown",
   "id": "3902f31a-3409-4c39-b6b5-d03a7bdd31d8",
   "metadata": {},
   "source": [
    "# EDA"
   ]
  },
  {
   "cell_type": "code",
   "execution_count": 6,
   "id": "c6bb700f-73f4-47e1-86a7-76867669b2f2",
   "metadata": {},
   "outputs": [],
   "source": [
    "df['len_title'] = df['title'].str.len()\n",
    "df['len_summary'] = df['summary'].str.len()"
   ]
  },
  {
   "cell_type": "code",
   "execution_count": 7,
   "id": "e0db978e-b553-4ca3-83c9-c69a8b3f9fa7",
   "metadata": {},
   "outputs": [
    {
     "data": {
      "text/plain": [
       "'Carnival Corporation & plc Announces the Redemption of Existing €500 Million Notes and Launch of New Senior Unsecured Notes Offering for Interest Expense Reduction; Launch of Repricing of Senior Secured First Lien Term Loan B Facilities with Partial Repayment for Debt and Interest Expense Reduction - Carnival  ( NYSE:CUK ) , Carnival  ( NYSE:CCL ) '"
      ]
     },
     "execution_count": 7,
     "metadata": {},
     "output_type": "execute_result"
    }
   ],
   "source": [
    "df.loc[df['len_title']==350, 'title'].to_list()[3]"
   ]
  },
  {
   "cell_type": "code",
   "execution_count": 8,
   "id": "f9187783-33c9-4714-b260-d1959b2877a3",
   "metadata": {},
   "outputs": [
    {
     "data": {
      "text/plain": [
       "1104180"
      ]
     },
     "execution_count": 8,
     "metadata": {},
     "output_type": "execute_result"
    }
   ],
   "source": [
    "df.loc[(df['len_title']>=30) & (df['len_title']<=270), 'title'].count()"
   ]
  },
  {
   "cell_type": "code",
   "execution_count": 9,
   "id": "95c5d892-7d15-4dfe-9674-6732effd8232",
   "metadata": {},
   "outputs": [],
   "source": [
    "check = df[\"len_title\"].unique()"
   ]
  },
  {
   "cell_type": "code",
   "execution_count": 10,
   "id": "1e907540-1407-46c3-8560-72680fc768c0",
   "metadata": {},
   "outputs": [],
   "source": [
    "check.sort()"
   ]
  },
  {
   "cell_type": "code",
   "execution_count": 11,
   "id": "b0600654-c16c-405f-a554-c643f481ff51",
   "metadata": {},
   "outputs": [
    {
     "data": {
      "text/plain": [
       "array([   1,    3,    4,    5,    6,    7,    8,    9,   10,   11,   12,\n",
       "         13,   14,   15,   16,   17,   18,   19,   20,   21,   22,   23,\n",
       "         24,   25,   26,   27,   28,   29,   30,   31,   32,   33,   34,\n",
       "         35,   36,   37,   38,   39,   40,   41,   42,   43,   44,   45,\n",
       "         46,   47,   48,   49,   50,   51,   52,   53,   54,   55,   56,\n",
       "         57,   58,   59,   60,   61,   62,   63,   64,   65,   66,   67,\n",
       "         68,   69,   70,   71,   72,   73,   74,   75,   76,   77,   78,\n",
       "         79,   80,   81,   82,   83,   84,   85,   86,   87,   88,   89,\n",
       "         90,   91,   92,   93,   94,   95,   96,   97,   98,   99,  100,\n",
       "        101,  102,  103,  104,  105,  106,  107,  108,  109,  110,  111,\n",
       "        112,  113,  114,  115,  116,  117,  118,  119,  120,  121,  122,\n",
       "        123,  124,  125,  126,  127,  128,  129,  130,  131,  132,  133,\n",
       "        134,  135,  136,  137,  138,  139,  140,  141,  142,  143,  144,\n",
       "        145,  146,  147,  148,  149,  150,  151,  152,  153,  154,  155,\n",
       "        156,  157,  158,  159,  160,  161,  162,  163,  164,  165,  166,\n",
       "        167,  168,  169,  170,  171,  172,  173,  174,  175,  176,  177,\n",
       "        178,  179,  180,  181,  182,  183,  184,  185,  186,  187,  188,\n",
       "        189,  190,  191,  192,  193,  194,  195,  196,  197,  198,  199,\n",
       "        200,  201,  202,  203,  204,  205,  206,  207,  208,  209,  210,\n",
       "        211,  212,  213,  214,  215,  216,  217,  218,  219,  220,  221,\n",
       "        222,  223,  224,  225,  226,  227,  228,  229,  230,  231,  232,\n",
       "        233,  234,  235,  236,  237,  238,  239,  240,  241,  242,  243,\n",
       "        244,  245,  246,  247,  248,  249,  250,  251,  252,  253,  254,\n",
       "        255,  256,  257,  258,  259,  260,  261,  262,  263,  264,  265,\n",
       "        266,  267,  268,  269,  270,  271,  272,  273,  274,  275,  276,\n",
       "        277,  278,  279,  280,  281,  282,  283,  284,  285,  286,  287,\n",
       "        288,  289,  290,  291,  292,  293,  294,  295,  296,  297,  298,\n",
       "        299,  300,  301,  302,  303,  304,  305,  306,  307,  308,  309,\n",
       "        310,  311,  312,  313,  314,  315,  316,  317,  318,  319,  320,\n",
       "        321,  322,  323,  324,  325,  326,  327,  329,  330,  331,  332,\n",
       "        333,  334,  335,  336,  337,  338,  339,  340,  341,  342,  343,\n",
       "        344,  345,  346,  347,  348,  350,  351,  352,  353,  354,  355,\n",
       "        356,  357,  358,  359,  361,  362,  363,  364,  365,  366,  367,\n",
       "        368,  369,  370,  371,  372,  373,  374,  376,  377,  379,  380,\n",
       "        381,  383,  384,  385,  386,  387,  389,  390,  391,  392,  393,\n",
       "        394,  395,  396,  397,  398,  399,  400,  401,  402,  403,  404,\n",
       "        406,  407,  409,  410,  411,  412,  413,  414,  415,  417,  418,\n",
       "        419,  420,  421,  423,  426,  427,  428,  429,  430,  432,  433,\n",
       "        435,  437,  439,  440,  441,  445,  446,  447,  449,  450,  451,\n",
       "        452,  454,  455,  456,  458,  459,  460,  464,  465,  466,  468,\n",
       "        471,  473,  476,  477,  478,  480,  482,  483,  485,  492,  494,\n",
       "        496,  497,  501,  505,  506,  508,  509,  510,  511,  512,  513,\n",
       "        514,  518,  519,  521,  525,  526,  527,  531,  532,  534,  539,\n",
       "        543,  545,  546,  550,  554,  555,  556,  557,  558,  562,  564,\n",
       "        567,  570,  571,  573,  575,  577,  578,  579,  581,  583,  586,\n",
       "        587,  588,  592,  594,  595,  596,  599,  601,  602,  606,  612,\n",
       "        615,  616,  617,  621,  624,  627,  630,  632,  634,  635,  641,\n",
       "        642,  651,  670,  672,  674,  675,  679,  686,  688,  689,  698,\n",
       "        710,  718,  720,  729,  734,  752,  760,  764,  765,  773,  778,\n",
       "        785,  799,  802,  809,  810,  834,  837,  852,  859,  860,  871,\n",
       "        874,  881,  882,  915,  925,  927,  933,  935,  957,  973, 1074,\n",
       "       1116, 1148, 1217, 1248, 1301, 1323, 1359, 1373, 1403, 1417, 1438,\n",
       "       1449, 1458, 1468, 1635, 1636, 1638, 1675, 1689, 1716, 1750, 1754,\n",
       "       1789, 1792, 1814, 1855, 1865, 1875, 1881, 1930, 1944, 1959, 1980,\n",
       "       1989, 2049, 2095, 2119, 2129, 2132, 2157, 2225, 2279, 2320, 2338,\n",
       "       2381, 2421, 2442, 2543, 2549, 2693], dtype=int64)"
      ]
     },
     "execution_count": 11,
     "metadata": {},
     "output_type": "execute_result"
    }
   ],
   "source": [
    "check"
   ]
  },
  {
   "cell_type": "code",
   "execution_count": 12,
   "id": "4f352812-e6cc-44c4-99e2-7ad13a889827",
   "metadata": {},
   "outputs": [],
   "source": [
    "df['cut_title'] = pd.cut(df['len_title'], 20, labels=False)"
   ]
  },
  {
   "cell_type": "code",
   "execution_count": 13,
   "id": "4ea1ce82-0fdc-434f-8468-febeec3b8496",
   "metadata": {},
   "outputs": [
    {
     "data": {
      "text/html": [
       "<div>\n",
       "<style scoped>\n",
       "    .dataframe tbody tr th:only-of-type {\n",
       "        vertical-align: middle;\n",
       "    }\n",
       "\n",
       "    .dataframe tbody tr th {\n",
       "        vertical-align: top;\n",
       "    }\n",
       "\n",
       "    .dataframe thead tr th {\n",
       "        text-align: left;\n",
       "    }\n",
       "\n",
       "    .dataframe thead tr:last-of-type th {\n",
       "        text-align: right;\n",
       "    }\n",
       "</style>\n",
       "<table border=\"1\" class=\"dataframe\">\n",
       "  <thead>\n",
       "    <tr>\n",
       "      <th></th>\n",
       "      <th colspan=\"3\" halign=\"left\">len_title</th>\n",
       "    </tr>\n",
       "    <tr>\n",
       "      <th></th>\n",
       "      <th>min</th>\n",
       "      <th>max</th>\n",
       "      <th>count</th>\n",
       "    </tr>\n",
       "    <tr>\n",
       "      <th>cut_title</th>\n",
       "      <th></th>\n",
       "      <th></th>\n",
       "      <th></th>\n",
       "    </tr>\n",
       "  </thead>\n",
       "  <tbody>\n",
       "    <tr>\n",
       "      <th>0</th>\n",
       "      <td>1</td>\n",
       "      <td>135</td>\n",
       "      <td>991839</td>\n",
       "    </tr>\n",
       "    <tr>\n",
       "      <th>1</th>\n",
       "      <td>136</td>\n",
       "      <td>270</td>\n",
       "      <td>121088</td>\n",
       "    </tr>\n",
       "    <tr>\n",
       "      <th>2</th>\n",
       "      <td>271</td>\n",
       "      <td>404</td>\n",
       "      <td>2227</td>\n",
       "    </tr>\n",
       "    <tr>\n",
       "      <th>3</th>\n",
       "      <td>406</td>\n",
       "      <td>539</td>\n",
       "      <td>491</td>\n",
       "    </tr>\n",
       "    <tr>\n",
       "      <th>4</th>\n",
       "      <td>543</td>\n",
       "      <td>674</td>\n",
       "      <td>297</td>\n",
       "    </tr>\n",
       "    <tr>\n",
       "      <th>5</th>\n",
       "      <td>675</td>\n",
       "      <td>802</td>\n",
       "      <td>142</td>\n",
       "    </tr>\n",
       "    <tr>\n",
       "      <th>6</th>\n",
       "      <td>809</td>\n",
       "      <td>935</td>\n",
       "      <td>90</td>\n",
       "    </tr>\n",
       "    <tr>\n",
       "      <th>7</th>\n",
       "      <td>957</td>\n",
       "      <td>1074</td>\n",
       "      <td>17</td>\n",
       "    </tr>\n",
       "    <tr>\n",
       "      <th>8</th>\n",
       "      <td>1116</td>\n",
       "      <td>1148</td>\n",
       "      <td>12</td>\n",
       "    </tr>\n",
       "    <tr>\n",
       "      <th>9</th>\n",
       "      <td>1217</td>\n",
       "      <td>1323</td>\n",
       "      <td>26</td>\n",
       "    </tr>\n",
       "    <tr>\n",
       "      <th>10</th>\n",
       "      <td>1359</td>\n",
       "      <td>1468</td>\n",
       "      <td>55</td>\n",
       "    </tr>\n",
       "    <tr>\n",
       "      <th>12</th>\n",
       "      <td>1635</td>\n",
       "      <td>1750</td>\n",
       "      <td>69</td>\n",
       "    </tr>\n",
       "    <tr>\n",
       "      <th>13</th>\n",
       "      <td>1754</td>\n",
       "      <td>1881</td>\n",
       "      <td>84</td>\n",
       "    </tr>\n",
       "    <tr>\n",
       "      <th>14</th>\n",
       "      <td>1930</td>\n",
       "      <td>1989</td>\n",
       "      <td>41</td>\n",
       "    </tr>\n",
       "    <tr>\n",
       "      <th>15</th>\n",
       "      <td>2049</td>\n",
       "      <td>2132</td>\n",
       "      <td>66</td>\n",
       "    </tr>\n",
       "    <tr>\n",
       "      <th>16</th>\n",
       "      <td>2157</td>\n",
       "      <td>2279</td>\n",
       "      <td>30</td>\n",
       "    </tr>\n",
       "    <tr>\n",
       "      <th>17</th>\n",
       "      <td>2320</td>\n",
       "      <td>2421</td>\n",
       "      <td>45</td>\n",
       "    </tr>\n",
       "    <tr>\n",
       "      <th>18</th>\n",
       "      <td>2442</td>\n",
       "      <td>2549</td>\n",
       "      <td>44</td>\n",
       "    </tr>\n",
       "    <tr>\n",
       "      <th>19</th>\n",
       "      <td>2693</td>\n",
       "      <td>2693</td>\n",
       "      <td>15</td>\n",
       "    </tr>\n",
       "  </tbody>\n",
       "</table>\n",
       "</div>"
      ],
      "text/plain": [
       "          len_title              \n",
       "                min   max   count\n",
       "cut_title                        \n",
       "0                 1   135  991839\n",
       "1               136   270  121088\n",
       "2               271   404    2227\n",
       "3               406   539     491\n",
       "4               543   674     297\n",
       "5               675   802     142\n",
       "6               809   935      90\n",
       "7               957  1074      17\n",
       "8              1116  1148      12\n",
       "9              1217  1323      26\n",
       "10             1359  1468      55\n",
       "12             1635  1750      69\n",
       "13             1754  1881      84\n",
       "14             1930  1989      41\n",
       "15             2049  2132      66\n",
       "16             2157  2279      30\n",
       "17             2320  2421      45\n",
       "18             2442  2549      44\n",
       "19             2693  2693      15"
      ]
     },
     "execution_count": 13,
     "metadata": {},
     "output_type": "execute_result"
    }
   ],
   "source": [
    "df[['cut_title', 'len_title']].groupby('cut_title').agg(['min', 'max', 'count'])"
   ]
  },
  {
   "cell_type": "markdown",
   "id": "5dcfcd88-3c8b-4196-a08c-5c35a5f86cae",
   "metadata": {},
   "source": [
    "## Processing"
   ]
  },
  {
   "cell_type": "code",
   "execution_count": 14,
   "id": "26eabdda-7c9f-4b91-8f75-a6ab61c67d4a",
   "metadata": {},
   "outputs": [],
   "source": [
    "df_used = df.loc[(df['len_title']>=30) & (df['len_title']<=270)].copy()"
   ]
  },
  {
   "cell_type": "code",
   "execution_count": 15,
   "id": "f7cde4eb-12dc-4255-9a95-31081e7a3bab",
   "metadata": {},
   "outputs": [
    {
     "data": {
      "text/plain": [
       "Index(['Unnamed: 0', 'date_published', 'title', 'time_published', 'authors',\n",
       "       'summary', 'source', 'ticker', 'label_close2max', 'label_close3max',\n",
       "       'label_close2min', 'label_close3min', 'label_close2mean',\n",
       "       'label_close3mean', 'inc_close2mean_perc5', 'inc_close2mean_perc10',\n",
       "       'inc_close2mean_perc3', 'inc_close2max_perc5', 'inc_close2max_perc10',\n",
       "       'inc_close2max_perc3', 'inc_close3mean_perc5', 'inc_close3mean_perc10',\n",
       "       'inc_close3mean_perc3', 'inc_close3max_perc5', 'inc_close3max_perc10',\n",
       "       'inc_close3max_perc3', 'dec_close2mean_perc5', 'dec_close2mean_perc10',\n",
       "       'dec_close2mean_perc3', 'dec_close2min_perc5', 'dec_close2min_perc10',\n",
       "       'dec_close2min_perc3', 'dec_close3mean_perc5', 'dec_close3mean_perc10',\n",
       "       'dec_close3mean_perc3', 'dec_close3min_perc5', 'dec_close3min_perc10',\n",
       "       'dec_close3min_perc3', 'summary_length', 'title_length', 'len_title',\n",
       "       'len_summary', 'cut_title'],\n",
       "      dtype='object')"
      ]
     },
     "execution_count": 15,
     "metadata": {},
     "output_type": "execute_result"
    }
   ],
   "source": [
    "df_used.columns"
   ]
  },
  {
   "cell_type": "code",
   "execution_count": 16,
   "id": "92aa250d-fab3-498d-a693-12f0e978b629",
   "metadata": {},
   "outputs": [],
   "source": [
    "df_used['summary_processed'] = df_used['title']"
   ]
  },
  {
   "cell_type": "code",
   "execution_count": 17,
   "id": "027e3ce3-1bdb-4019-9118-009a71ca86f6",
   "metadata": {},
   "outputs": [],
   "source": [
    "df_used = df_used.drop_duplicates('title', keep='first')"
   ]
  },
  {
   "cell_type": "code",
   "execution_count": 18,
   "id": "9536f841-2d21-454b-ab74-90077218f368",
   "metadata": {},
   "outputs": [],
   "source": [
    "# df_used.count()"
   ]
  },
  {
   "cell_type": "code",
   "execution_count": 19,
   "id": "3e514c93-037a-479d-b93a-72c833ceb215",
   "metadata": {},
   "outputs": [],
   "source": [
    "df_used['price_sentiment3'] = 'neutral'\n",
    "df_used.loc[(df_used['inc_close3max_perc3']==1)&(df_used['dec_close3min_perc3']==0), 'price_sentiment3'] = 'price increase'\n",
    "df_used.loc[(df_used['inc_close3max_perc3']==0)&(df_used['dec_close3min_perc3']==1), 'price_sentiment3'] = 'price decrease'\n",
    "df_used.loc[(df_used['inc_close3max_perc3']==0)&(df_used['dec_close3min_perc3']==0), 'price_sentiment3'] = 'neutral'"
   ]
  },
  {
   "cell_type": "code",
   "execution_count": 20,
   "id": "65f79cfc-8791-4019-8eec-98b979e21990",
   "metadata": {},
   "outputs": [
    {
     "data": {
      "text/plain": [
       "price_sentiment3\n",
       "neutral           363998\n",
       "price decrease    107437\n",
       "price increase    103292\n",
       "Name: count, dtype: int64"
      ]
     },
     "execution_count": 20,
     "metadata": {},
     "output_type": "execute_result"
    }
   ],
   "source": [
    "df_used.price_sentiment3.value_counts()"
   ]
  },
  {
   "cell_type": "code",
   "execution_count": 21,
   "id": "34a19ce5-c325-4958-be03-815dc931a91e",
   "metadata": {},
   "outputs": [],
   "source": [
    "from sklearn.model_selection import train_test_split\n",
    "\n",
    "train_idx, test_idx, y_train, y_test = train_test_split(\n",
    "    df_used.index, df_used.price_sentiment3, test_size=0.33, random_state=42, stratify=df_used.price_sentiment3)"
   ]
  },
  {
   "cell_type": "code",
   "execution_count": 22,
   "id": "0d9f8c3a-655f-4746-9fce-14363c48b1d4",
   "metadata": {},
   "outputs": [
    {
     "data": {
      "text/plain": [
       "385067"
      ]
     },
     "execution_count": 22,
     "metadata": {},
     "output_type": "execute_result"
    }
   ],
   "source": [
    "len(train_idx)"
   ]
  },
  {
   "cell_type": "code",
   "execution_count": 23,
   "id": "6e52b778-4118-4130-b032-e12bed0bd70a",
   "metadata": {},
   "outputs": [
    {
     "data": {
      "text/plain": [
       "189660"
      ]
     },
     "execution_count": 23,
     "metadata": {},
     "output_type": "execute_result"
    }
   ],
   "source": [
    "len(test_idx)"
   ]
  },
  {
   "cell_type": "code",
   "execution_count": 26,
   "id": "bd18530b-eca7-4a14-8588-fa7d2c4c131e",
   "metadata": {},
   "outputs": [
    {
     "data": {
      "text/plain": [
       "price_sentiment3\n",
       "neutral           243878\n",
       "price decrease     71983\n",
       "price increase     69206\n",
       "Name: count, dtype: int64"
      ]
     },
     "execution_count": 26,
     "metadata": {},
     "output_type": "execute_result"
    }
   ],
   "source": [
    "df_used.loc[train_idx].price_sentiment3.value_counts()"
   ]
  },
  {
   "cell_type": "code",
   "execution_count": 31,
   "id": "7bf72d57-0e65-4234-a71f-447cca331c30",
   "metadata": {},
   "outputs": [],
   "source": [
    "n_count = 6000\n",
    "\n",
    "df_sample = pd.DataFrame()\n",
    "\n",
    "for label in df_used.price_sentiment3.unique():\n",
    "    index_used = df_used[(df_used.index.isin(train_idx))&(df_used.price_sentiment3==label)].index\n",
    "    df_temp = df_used.loc[index_used[0:6000]].copy()\n",
    "    df_sample = pd.concat([df_sample, df_temp], axis=0)"
   ]
  },
  {
   "cell_type": "code",
   "execution_count": 32,
   "id": "c8f5d386-db66-478d-b75a-b67c7baa33f8",
   "metadata": {},
   "outputs": [
    {
     "data": {
      "text/plain": [
       "price_sentiment3\n",
       "price decrease    6000\n",
       "neutral           6000\n",
       "price increase    6000\n",
       "Name: count, dtype: int64"
      ]
     },
     "execution_count": 32,
     "metadata": {},
     "output_type": "execute_result"
    }
   ],
   "source": [
    "df_sample.price_sentiment3.value_counts()"
   ]
  },
  {
   "cell_type": "code",
   "execution_count": 33,
   "id": "d03865d4-eb2c-4303-a186-6350d4df642a",
   "metadata": {},
   "outputs": [],
   "source": [
    "regulated_list = list()\n",
    "\n",
    "for index, row in df_sample.iterrows():\n",
    "    system_ = {\"role\": \"system\", \"content\": \"Analyze the news title and predict the stock price into one of the following classes:[price increase, price decrease, neutral]\"}\n",
    "    user_ = {\"role\": \"user\", \"content\": row.title}\n",
    "    model_ = {\"role\": \"assistant\", \"content\": row.price_sentiment3}\n",
    "    top_container = {\"messages\": [system_, user_, model_]}\n",
    "    regulated_list.append(top_container)"
   ]
  },
  {
   "cell_type": "code",
   "execution_count": 34,
   "id": "9f0953ae-b16c-4360-a698-0a7dad4b7ca4",
   "metadata": {},
   "outputs": [],
   "source": [
    "# print(regulated_list)"
   ]
  },
  {
   "cell_type": "code",
   "execution_count": 35,
   "id": "0cc9f74e-f470-4bd4-9836-6b2644952cdf",
   "metadata": {},
   "outputs": [],
   "source": [
    "import jsonlines\n",
    "\n",
    "with jsonlines.open('output_training_mini.jsonl', 'w') as writer:\n",
    "    writer.write_all(regulated_list)"
   ]
  },
  {
   "cell_type": "code",
   "execution_count": 36,
   "id": "116895ec-ecea-4761-98de-8da116686656",
   "metadata": {},
   "outputs": [],
   "source": [
    "n_count = 6000\n",
    "\n",
    "df_sample = pd.DataFrame()\n",
    "\n",
    "for label in df_used.price_sentiment3.unique():\n",
    "    index_used = df_used[(df_used.index.isin(test_idx))&(df_used.price_sentiment3==label)].index\n",
    "    df_temp = df_used.loc[index_used[0:6000]].copy()\n",
    "    df_sample = pd.concat([df_sample, df_temp], axis=0)"
   ]
  },
  {
   "cell_type": "code",
   "execution_count": 37,
   "id": "2a523337-ac6f-4f62-91d0-6393c7a4e5da",
   "metadata": {},
   "outputs": [
    {
     "data": {
      "text/plain": [
       "price_sentiment3\n",
       "price decrease    6000\n",
       "neutral           6000\n",
       "price increase    6000\n",
       "Name: count, dtype: int64"
      ]
     },
     "execution_count": 37,
     "metadata": {},
     "output_type": "execute_result"
    }
   ],
   "source": [
    "df_sample.price_sentiment3.value_counts()"
   ]
  },
  {
   "cell_type": "code",
   "execution_count": 38,
   "id": "030b43ea-e182-42da-862d-a74b08056525",
   "metadata": {},
   "outputs": [],
   "source": [
    "regulated_list = list()\n",
    "\n",
    "for index, row in df_sample.iterrows():\n",
    "    system_ = {\"role\": \"system\", \"content\": \"Analyze the news title and predict the stock price into one of the following classes:[price increase, price decrease, neutral]\"}\n",
    "    user_ = {\"role\": \"user\", \"content\": row.title}\n",
    "    model_ = {\"role\": \"assistant\", \"content\": row.price_sentiment3}\n",
    "    top_container = {\"messages\": [system_, user_, model_]}\n",
    "    regulated_list.append(top_container)"
   ]
  },
  {
   "cell_type": "code",
   "execution_count": 39,
   "id": "8ecb28af-12c1-4ae8-87c3-00de07c6f3b8",
   "metadata": {},
   "outputs": [],
   "source": [
    "import jsonlines\n",
    "\n",
    "with jsonlines.open('output_test_mini.jsonl', 'w') as writer:\n",
    "    writer.write_all(regulated_list)"
   ]
  },
  {
   "cell_type": "code",
   "execution_count": null,
   "id": "f5657cb5-33bb-4c9a-979f-1472c55f2667",
   "metadata": {},
   "outputs": [],
   "source": []
  }
 ],
 "metadata": {
  "kernelspec": {
   "display_name": "Python [conda env:miniconda3-nlp]",
   "language": "python",
   "name": "conda-env-miniconda3-nlp-py"
  },
  "language_info": {
   "codemirror_mode": {
    "name": "ipython",
    "version": 3
   },
   "file_extension": ".py",
   "mimetype": "text/x-python",
   "name": "python",
   "nbconvert_exporter": "python",
   "pygments_lexer": "ipython3",
   "version": "3.12.5"
  }
 },
 "nbformat": 4,
 "nbformat_minor": 5
}
