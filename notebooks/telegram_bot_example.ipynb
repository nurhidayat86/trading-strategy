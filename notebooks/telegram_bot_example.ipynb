{
 "cells": [
  {
   "cell_type": "code",
   "execution_count": 3,
   "id": "adc0e476-613d-411e-b064-b8ce4919adf5",
   "metadata": {},
   "outputs": [],
   "source": [
    "bot_token = \"xxxx\"\n"
   ]
  },
  {
   "cell_type": "code",
   "execution_count": 23,
   "id": "c01a6714-9276-49d6-a3b9-27e0c72b4938",
   "metadata": {},
   "outputs": [
    {
     "name": "stdout",
     "output_type": "stream",
     "text": [
      "{'ok': True, 'result': {'message_id': 14, 'from': {'id': 7787063408, 'is_bot': True, 'first_name': 'trading shaman', 'username': 'TradingShamanBot'}, 'chat': {'id': 7453131222, 'first_name': 'Langit Biru Jingga', 'username': 'langitbirujingga20', 'type': 'private'}, 'date': 1731520783, 'text': 'Hello, this is a message from my bot!'}}\n"
     ]
    }
   ],
   "source": [
    "import requests\n",
    "TOKEN = \"YOUR TELEGRAM BOT TOKEN\"\n",
    "chat_id = \"chat_id\"\n",
    "message = \"hello from your telegram bot\"\n",
    "url = f\"https://api.telegram.org/bot{bot_token}/sendMessage?chat_id={chat_id}&text={message_text}\"\n",
    "print(requests.get(url).json()) # this sends the message"
   ]
  }
 ],
 "metadata": {
  "kernelspec": {
   "display_name": "Python [conda env:nlp]",
   "language": "python",
   "name": "conda-env-nlp-py"
  },
  "language_info": {
   "codemirror_mode": {
    "name": "ipython",
    "version": 3
   },
   "file_extension": ".py",
   "mimetype": "text/x-python",
   "name": "python",
   "nbconvert_exporter": "python",
   "pygments_lexer": "ipython3",
   "version": "3.12.5"
  }
 },
 "nbformat": 4,
 "nbformat_minor": 5
}
